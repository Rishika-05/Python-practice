{
 "cells": [
  {
   "cell_type": "markdown",
   "id": "4cd53423",
   "metadata": {},
   "source": [
    "## *Assignment - 2*"
   ]
  },
  {
   "cell_type": "code",
   "execution_count": 16,
   "id": "4e3e96b2",
   "metadata": {},
   "outputs": [],
   "source": [
    "import numpy as np"
   ]
  },
  {
   "cell_type": "markdown",
   "id": "63a57abe",
   "metadata": {},
   "source": [
    "### Arrays"
   ]
  },
  {
   "cell_type": "code",
   "execution_count": 17,
   "id": "67ddea09",
   "metadata": {},
   "outputs": [
    {
     "name": "stdout",
     "output_type": "stream",
     "text": [
      "1 2 3 4 -8 -10\n",
      "[-10.  -8.   4.   3.   2.   1.]\n"
     ]
    }
   ],
   "source": [
    "def arrays(arr):\n",
    "    brr = np.array(arr, float)\n",
    "    return brr[::-1]\n",
    "\n",
    "arr = input().strip().split(' ')\n",
    "result = arrays(arr)\n",
    "print(result)"
   ]
  },
  {
   "cell_type": "markdown",
   "id": "0a3c3210",
   "metadata": {},
   "source": [
    "### Shape and Reshape"
   ]
  },
  {
   "cell_type": "code",
   "execution_count": 15,
   "id": "0e0d2c67",
   "metadata": {},
   "outputs": [
    {
     "name": "stdout",
     "output_type": "stream",
     "text": [
      "1 2 3 4 5 6 7 8 9\n",
      "[[1 2 3]\n",
      " [4 5 6]\n",
      " [7 8 9]]\n"
     ]
    }
   ],
   "source": [
    "arr = list(map(int,input().strip().split()))[:9]\n",
    "brr = np.array(arr)\n",
    "print(np.reshape(brr,(3,3)))"
   ]
  },
  {
   "cell_type": "markdown",
   "id": "b3ec8ff7",
   "metadata": {},
   "source": [
    "### Transpose and Flatten"
   ]
  },
  {
   "cell_type": "code",
   "execution_count": 1,
   "id": "474b4b03",
   "metadata": {},
   "outputs": [
    {
     "name": "stdout",
     "output_type": "stream",
     "text": [
      "2 2\n",
      "1 2\n",
      "3 4\n",
      "[[1 3]\n",
      " [2 4]]\n",
      "[1 2 3 4]\n"
     ]
    }
   ],
   "source": [
    "r = list(map(int, input().split()))\n",
    "arr = list()\n",
    "for i in range(r[0]):\n",
    "    ar = list(map(int, input().split()))\n",
    "    arr.append(ar)\n",
    "    \n",
    "arr = np.array(arr).reshape(r[0],r[1])\n",
    "print(np.transpose(arr))\n",
    "print(arr.flatten())"
   ]
  },
  {
   "cell_type": "markdown",
   "id": "080aaef4",
   "metadata": {},
   "source": [
    "### Concatenate"
   ]
  },
  {
   "cell_type": "code",
   "execution_count": 2,
   "id": "b410b7c7",
   "metadata": {},
   "outputs": [
    {
     "name": "stdout",
     "output_type": "stream",
     "text": [
      "4 3 2\n",
      "1 2\n",
      "1 2\n",
      "1 2\n",
      "1 2\n",
      "3 4\n",
      "3 4\n",
      "3 4\n",
      "[[1 2]\n",
      " [1 2]\n",
      " [1 2]\n",
      " [1 2]\n",
      " [3 4]\n",
      " [3 4]\n",
      " [3 4]]\n"
     ]
    }
   ],
   "source": [
    "n = list(map(int, input().split()))\n",
    "a = []\n",
    "b = []\n",
    "for i in range(n[0]):\n",
    "    ar = list(map(int, input().split()))\n",
    "    a.append(ar)\n",
    "for i in range(n[1]):\n",
    "    br = list(map(int, input().split()))\n",
    "    b.append(br)\n",
    "\n",
    "a = np.array(a)\n",
    "b = np.array(b)\n",
    "\n",
    "print(np.concatenate((a,b), axis = 0))\n"
   ]
  },
  {
   "cell_type": "markdown",
   "id": "20635fa1",
   "metadata": {},
   "source": [
    "### Zeroes and Ones"
   ]
  },
  {
   "cell_type": "code",
   "execution_count": 3,
   "id": "0ee887c9",
   "metadata": {},
   "outputs": [
    {
     "name": "stdout",
     "output_type": "stream",
     "text": [
      "3 3 3\n",
      "[[[0 0 0]\n",
      "  [0 0 0]\n",
      "  [0 0 0]]\n",
      "\n",
      " [[0 0 0]\n",
      "  [0 0 0]\n",
      "  [0 0 0]]\n",
      "\n",
      " [[0 0 0]\n",
      "  [0 0 0]\n",
      "  [0 0 0]]]\n",
      "[[[1 1 1]\n",
      "  [1 1 1]\n",
      "  [1 1 1]]\n",
      "\n",
      " [[1 1 1]\n",
      "  [1 1 1]\n",
      "  [1 1 1]]\n",
      "\n",
      " [[1 1 1]\n",
      "  [1 1 1]\n",
      "  [1 1 1]]]\n"
     ]
    }
   ],
   "source": [
    "n = list(map(int, input().split()))\n",
    "\n",
    "print(np.zeros(n, dtype = np.int))\n",
    "print(np.ones(n, dtype = np.int))"
   ]
  },
  {
   "cell_type": "markdown",
   "id": "9593513b",
   "metadata": {},
   "source": [
    "### Eye and Identity"
   ]
  },
  {
   "cell_type": "code",
   "execution_count": 4,
   "id": "520a859c",
   "metadata": {},
   "outputs": [
    {
     "name": "stdout",
     "output_type": "stream",
     "text": [
      "3 3\n",
      "[[ 1.  0.  0.]\n",
      " [ 0.  1.  0.]\n",
      " [ 0.  0.  1.]]\n"
     ]
    }
   ],
   "source": [
    "np.set_printoptions(legacy = '1.13')\n",
    "\n",
    "n = list(map(int, input().split()))\n",
    "\n",
    "print(np.eye(n[0], n[1], k = 0))\n"
   ]
  },
  {
   "cell_type": "markdown",
   "id": "76755aaa",
   "metadata": {},
   "source": [
    "### Array Mathematics"
   ]
  },
  {
   "cell_type": "code",
   "execution_count": 5,
   "id": "77d7be75",
   "metadata": {},
   "outputs": [
    {
     "name": "stdout",
     "output_type": "stream",
     "text": [
      "1 4\n",
      "1 2 3 4\n",
      "5 6 7 8\n",
      "[[ 6  8 10 12]]\n",
      "[[-4 -4 -4 -4]]\n",
      "[[ 5 12 21 32]]\n",
      "[[0 0 0 0]]\n",
      "[[1 2 3 4]]\n",
      "[[    1    64  2187 65536]]\n"
     ]
    }
   ],
   "source": [
    "n =list(map(int, input().split()))\n",
    "a = []\n",
    "b = []\n",
    "for i in range(n[0]):\n",
    "    ar = list(map(int, input().split()))\n",
    "    a.append(ar)\n",
    "for i in range(n[0]):\n",
    "    br = list(map(int, input().split()))\n",
    "    b.append(br)\n",
    "    \n",
    "a = np.array(a)\n",
    "b = np.array(b)\n",
    "\n",
    "print(a+b)\n",
    "print(a-b)\n",
    "print(a*b)\n",
    "print(a//b)\n",
    "print(a%b)\n",
    "print(a**b)\n"
   ]
  },
  {
   "cell_type": "markdown",
   "id": "d917d66e",
   "metadata": {},
   "source": [
    "### Floor, ceil and Rint"
   ]
  },
  {
   "cell_type": "code",
   "execution_count": 6,
   "id": "452ea0ba",
   "metadata": {},
   "outputs": [
    {
     "name": "stdout",
     "output_type": "stream",
     "text": [
      "1.1 2.2 3.3 4.4 5.5 6.6 7.7 8.8 9.9\n",
      "[ 1.  2.  3.  4.  5.  6.  7.  8.  9.]\n",
      "[  2.   3.   4.   5.   6.   7.   8.   9.  10.]\n",
      "[  1.   2.   3.   4.   6.   7.   8.   9.  10.]\n"
     ]
    }
   ],
   "source": [
    "np.set_printoptions(legacy='1.13')\n",
    "\n",
    "a = list(map(float  , input().split()))\n",
    "a = np.array(a)\n",
    "\n",
    "print(np.floor(a))\n",
    "print(np.ceil(a))\n",
    "print(np.rint(a))"
   ]
  },
  {
   "cell_type": "markdown",
   "id": "899c1abc",
   "metadata": {},
   "source": [
    "### Sum and Prod"
   ]
  },
  {
   "cell_type": "code",
   "execution_count": 7,
   "id": "3852de33",
   "metadata": {},
   "outputs": [
    {
     "name": "stdout",
     "output_type": "stream",
     "text": [
      "2 2\n",
      "1 2\n",
      "3 4\n",
      "24\n"
     ]
    }
   ],
   "source": [
    "n = list(map(int, input().split()))\n",
    "\n",
    "a = []\n",
    "for i in range(n[0]):\n",
    "    ar = list(map(int, input().split()))\n",
    "    a.append(ar)\n",
    "\n",
    "b = np.sum(a, axis = 0)\n",
    "print(np.prod(b))\n"
   ]
  },
  {
   "cell_type": "markdown",
   "id": "2088982c",
   "metadata": {},
   "source": [
    "### Min and Max"
   ]
  },
  {
   "cell_type": "code",
   "execution_count": 8,
   "id": "71117bc4",
   "metadata": {},
   "outputs": [
    {
     "name": "stdout",
     "output_type": "stream",
     "text": [
      "4 2\n",
      "2 5\n",
      "3 7\n",
      "1 3\n",
      "4 0\n",
      "3\n"
     ]
    }
   ],
   "source": [
    "n = list(map(int, input().split()))\n",
    "\n",
    "a = []\n",
    "for i in range(n[0]):\n",
    "    ar = list(map(int, input().split()))\n",
    "    a.append(ar)\n",
    "\n",
    "b = np.min(a, axis = 1)\n",
    "print(np.max(b))"
   ]
  },
  {
   "cell_type": "markdown",
   "id": "19d22616",
   "metadata": {},
   "source": [
    "### Mean, Var and Std"
   ]
  },
  {
   "cell_type": "code",
   "execution_count": 9,
   "id": "1a2272b3",
   "metadata": {},
   "outputs": [
    {
     "name": "stdout",
     "output_type": "stream",
     "text": [
      "2 2\n",
      "1 2\n",
      "3 4\n",
      "[ 1.5  3.5]\n",
      "[ 1.  1.]\n",
      "1.11803398875\n"
     ]
    }
   ],
   "source": [
    "n = list(map(int, input().split()))\n",
    "\n",
    "a = []\n",
    "for i in range(n[0]):\n",
    "    ar = list(map(int, input().split()))\n",
    "    a.append(ar)\n",
    "\n",
    "print(np.mean(a, axis = 1))\n",
    "print(np.var(a, axis = 0))\n",
    "print(round(np.std(a, axis = None), 11))\n"
   ]
  },
  {
   "cell_type": "markdown",
   "id": "12e78ea1",
   "metadata": {},
   "source": [
    "### Dot and Cross"
   ]
  },
  {
   "cell_type": "code",
   "execution_count": 10,
   "id": "3c6ee0ee",
   "metadata": {},
   "outputs": [
    {
     "name": "stdout",
     "output_type": "stream",
     "text": [
      "2\n",
      "1 2\n",
      "3 4\n",
      "1 2\n",
      "3 4\n",
      "[[ 7 10]\n",
      " [15 22]]\n"
     ]
    }
   ],
   "source": [
    "n = int(input())\n",
    "a = []\n",
    "b = []\n",
    "for i in range(n):\n",
    "    ar = list(map(int, input().split()))\n",
    "    a.append(ar)\n",
    "for i in range(n):\n",
    "    br = list(map(int, input().split()))\n",
    "    b.append(br)\n",
    "\n",
    "a = np.array(a)\n",
    "b = np.array(b)\n",
    "\n",
    "print(np.dot(a, b))\n"
   ]
  },
  {
   "cell_type": "markdown",
   "id": "66cfebb5",
   "metadata": {},
   "source": [
    "### Inner and Outer"
   ]
  },
  {
   "cell_type": "code",
   "execution_count": 11,
   "id": "e5ac67ea",
   "metadata": {},
   "outputs": [
    {
     "name": "stdout",
     "output_type": "stream",
     "text": [
      "0 1\n",
      "2 3\n",
      "3\n",
      "[[0 0]\n",
      " [2 3]]\n"
     ]
    }
   ],
   "source": [
    "a = list(map(int, input().split()))\n",
    "b = list(map(int, input().split()))\n",
    "\n",
    "a = np.array(a)\n",
    "b = np.array(b)\n",
    "\n",
    "print(np.inner(a, b))\n",
    "print(np.outer(a, b))"
   ]
  },
  {
   "cell_type": "markdown",
   "id": "7f955bf0",
   "metadata": {},
   "source": [
    "### Polynomials"
   ]
  },
  {
   "cell_type": "code",
   "execution_count": 12,
   "id": "d2045a56",
   "metadata": {},
   "outputs": [
    {
     "name": "stdout",
     "output_type": "stream",
     "text": [
      "1.1 2 3\n",
      "0\n",
      "3.0\n"
     ]
    }
   ],
   "source": [
    "a = list(map(float, input().split()))\n",
    "n = int(input())\n",
    "\n",
    "a = np.array(a)\n",
    "print(np.polyval(a, n))\n"
   ]
  },
  {
   "cell_type": "markdown",
   "id": "f4fc03ff",
   "metadata": {},
   "source": [
    "### Linear Algerbra"
   ]
  },
  {
   "cell_type": "code",
   "execution_count": 13,
   "id": "17beb2a7",
   "metadata": {},
   "outputs": [
    {
     "name": "stdout",
     "output_type": "stream",
     "text": [
      "2\n",
      "1.1 1.1\n",
      "1.1 1.1\n",
      "0.0\n"
     ]
    }
   ],
   "source": [
    "n = int(input())\n",
    "a = []\n",
    "for i in range(n):\n",
    "    ar = list(map(float, input().split()))\n",
    "    a.append(ar)\n",
    "a= np.array(a)\n",
    "print(round(np.linalg.det(a),2))\n"
   ]
  },
  {
   "cell_type": "code",
   "execution_count": null,
   "id": "dafbc570",
   "metadata": {},
   "outputs": [],
   "source": []
  }
 ],
 "metadata": {
  "kernelspec": {
   "display_name": "Python 3",
   "language": "python",
   "name": "python3"
  },
  "language_info": {
   "codemirror_mode": {
    "name": "ipython",
    "version": 3
   },
   "file_extension": ".py",
   "mimetype": "text/x-python",
   "name": "python",
   "nbconvert_exporter": "python",
   "pygments_lexer": "ipython3",
   "version": "3.8.10"
  }
 },
 "nbformat": 4,
 "nbformat_minor": 5
}
