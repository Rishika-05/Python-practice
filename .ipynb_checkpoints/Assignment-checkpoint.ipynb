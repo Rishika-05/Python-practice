{
 "cells": [
  {
   "cell_type": "markdown",
   "id": "ff456d56",
   "metadata": {},
   "source": [
    "# *Assignment-1*"
   ]
  },
  {
   "cell_type": "markdown",
   "id": "1954ea50",
   "metadata": {},
   "source": [
    "#### 1. Take a string as a user input and display only those characters present at even index number.\n"
   ]
  },
  {
   "cell_type": "code",
   "execution_count": 5,
   "id": "24ee7e4b",
   "metadata": {},
   "outputs": [
    {
     "name": "stdout",
     "output_type": "stream",
     "text": [
      "Enter any string : PythonIsLove\n",
      "P\n",
      "t\n",
      "o\n",
      "I\n",
      "L\n",
      "v\n"
     ]
    }
   ],
   "source": [
    "s = input(\"Enter any string : \")\n",
    "for i in range(0, len(s), 2):\n",
    "    print(s[i])"
   ]
  },
  {
   "cell_type": "markdown",
   "id": "f7d4f3d6",
   "metadata": {},
   "source": [
    "#### 2. Create a list of 10 integers taking user input. And display the sum of only those numbers present at odd indexes."
   ]
  },
  {
   "cell_type": "code",
   "execution_count": 1,
   "id": "1714b0b5",
   "metadata": {},
   "outputs": [
    {
     "name": "stdout",
     "output_type": "stream",
     "text": [
      "\n",
      "Enter the numbers : 1 2 3 4 5 6 7 8 9 10\n",
      "30\n"
     ]
    }
   ],
   "source": [
    "List = list(map(int,input(\"\\nEnter the numbers : \").strip().split()))[:10]\n",
    "tsum = 0\n",
    "for i in range(1, 10, 2):\n",
    "    tsum += List[i]\n",
    "print(tsum)"
   ]
  },
  {
   "cell_type": "markdown",
   "id": "ffea3a6f",
   "metadata": {},
   "source": [
    "#### 3. Sort this given list , List1 = [ 15, 47, 68, 89, 35, 13] , without using the sort function."
   ]
  },
  {
   "cell_type": "code",
   "execution_count": 15,
   "id": "9169b527",
   "metadata": {},
   "outputs": [
    {
     "name": "stdout",
     "output_type": "stream",
     "text": [
      "[13, 15, 35, 47, 68, 89]\n"
     ]
    }
   ],
   "source": [
    "List1 = [ 15, 47, 68, 89, 35, 13]\n",
    "for i in range(len(List1)):\n",
    "    for j in range(i + 1, len(List1)):\n",
    "        if(List1[i] > List1[j]):\n",
    "            List1[i],List1[j] = List1[j],List1[i]\n",
    "print(List1)"
   ]
  },
  {
   "cell_type": "markdown",
   "id": "fc727297",
   "metadata": {},
   "source": [
    "#### 4. Print the following pattern - \n",
    "        1    \n",
    "        12   \n",
    "        123    \n",
    "        1234    \n",
    "        12345"
   ]
  },
  {
   "cell_type": "code",
   "execution_count": 16,
   "id": "48562462",
   "metadata": {},
   "outputs": [
    {
     "name": "stdout",
     "output_type": "stream",
     "text": [
      "1\n",
      "12\n",
      "123\n",
      "1234\n",
      "12345\n"
     ]
    }
   ],
   "source": [
    "pattern = \"12345\"\n",
    "for i in range(len(pattern)):\n",
    "    print(pattern[0:i+1], end=\"\\n\")"
   ]
  },
  {
   "cell_type": "markdown",
   "id": "180f65a7",
   "metadata": {},
   "source": [
    "#### 5. WAP to accept a 4 digit number from user and check if it’s a palindrome number"
   ]
  },
  {
   "cell_type": "code",
   "execution_count": 18,
   "id": "d302e2f7",
   "metadata": {},
   "outputs": [
    {
     "name": "stdout",
     "output_type": "stream",
     "text": [
      "enter any 4 digit no. : 1221\n",
      "Palindrome\n"
     ]
    }
   ],
   "source": [
    "n = input(\"enter any 4 digit no. : \")\n",
    "if n == n[::-1]:\n",
    "    print(\"Palindrome\")\n",
    "else:\n",
    "    print(\"Not a palindrome\")"
   ]
  },
  {
   "cell_type": "markdown",
   "id": "2912b885",
   "metadata": {},
   "source": [
    "#### 6. Given a two list of numbers create a new list such that new list should contain only odd numbers from the first list and even numbers from the second list"
   ]
  },
  {
   "cell_type": "code",
   "execution_count": 21,
   "id": "56426e43",
   "metadata": {},
   "outputs": [
    {
     "name": "stdout",
     "output_type": "stream",
     "text": [
      "[1, 3, 5, 6, 8, 10]\n"
     ]
    }
   ],
   "source": [
    "List1 = [1, 2, 3, 4, 5]\n",
    "List2 = [6, 7, 8, 9, 10]\n",
    "List = [x for x in List1 if x&1]\n",
    "for x in List2:\n",
    "    if x&1 == 0:\n",
    "        List.append(x)\n",
    "print(List)"
   ]
  },
  {
   "cell_type": "markdown",
   "id": "002013dc",
   "metadata": {},
   "source": [
    "#### 7. Write a function called exponent(base, exp) that returns an int value of base raises to the power of exp."
   ]
  },
  {
   "cell_type": "code",
   "execution_count": 23,
   "id": "a84119c0",
   "metadata": {},
   "outputs": [
    {
     "name": "stdout",
     "output_type": "stream",
     "text": [
      "16\n"
     ]
    }
   ],
   "source": [
    "def findPower(base :int, exp :int) -> int:\n",
    "    return base**exp\n",
    "\n",
    "print(findPower(2, 4))"
   ]
  },
  {
   "cell_type": "markdown",
   "id": "0715c8f5",
   "metadata": {},
   "source": [
    "#### 8. Write a recursive function to count the number of digits present in a number given by the user."
   ]
  },
  {
   "cell_type": "code",
   "execution_count": 27,
   "id": "f5dd12a6",
   "metadata": {},
   "outputs": [
    {
     "name": "stdout",
     "output_type": "stream",
     "text": [
      "Enter a no. : 12347736\n",
      "8\n"
     ]
    }
   ],
   "source": [
    "def countDigits(n :int, c :int) -> int:\n",
    "    if(n == 0):\n",
    "        return c\n",
    "    return countDigits(n//10, c + 1)\n",
    "\n",
    "n = int(input(\"Enter a no. : \"))\n",
    "print(countDigits(n, 0))"
   ]
  },
  {
   "cell_type": "markdown",
   "id": "123b00af",
   "metadata": {},
   "source": [
    "#### 9. WAP to replace the word “red” with “blue” from the string S =” The red bag has 10 red pens”. "
   ]
  },
  {
   "cell_type": "code",
   "execution_count": 29,
   "id": "39210c11",
   "metadata": {},
   "outputs": [
    {
     "name": "stdout",
     "output_type": "stream",
     "text": [
      "The blue bag has 10 blue pens\n"
     ]
    }
   ],
   "source": [
    "s = \"The red bag has 10 red pens\"\n",
    "s = s.replace('red', 'blue')\n",
    "print(s)"
   ]
  },
  {
   "cell_type": "markdown",
   "id": "860e29a0",
   "metadata": {},
   "source": [
    "#### 10. WAP to accept a choice from the user either 1 or 2 and find the sum of series accordingly.\n",
    "             1 : S= a+ a^2/2 + a^3/3 + a^4/4 +......+ a^n/n\n",
    "             2 : S=(1+2/2\\*3) + (1+2+3/1\\*2\\*3)+ .... +(1+2+3+...+n/1\\*2\\*3\\*.....\\*n)"
   ]
  },
  {
   "cell_type": "code",
   "execution_count": 34,
   "id": "20080d86",
   "metadata": {},
   "outputs": [
    {
     "name": "stdout",
     "output_type": "stream",
     "text": [
      "Enter any no. : 5\n",
      "Enter your choice 1 or 2 : 2\n",
      "3.0416666666666665\n"
     ]
    }
   ],
   "source": [
    "def series1(n :int, a :int) -> int:\n",
    "    tsum = 0.0\n",
    "    for i in range(1,n+1):\n",
    "        tsum += (a**i)/i\n",
    "    return tsum\n",
    "\n",
    "def series2(n :int) -> int:\n",
    "    nume = 1 + 2\n",
    "    deno = 1 * 2\n",
    "    tsum = nume/deno\n",
    "    for i in range(3, n+1):\n",
    "        nume += i\n",
    "        deno *= i\n",
    "        tsum += nume/deno\n",
    "    return tsum \n",
    "\n",
    "n = int(input(\"Enter any no. : \"))\n",
    "choice = input(\"Enter your choice 1 or 2 : \")\n",
    "\n",
    "if(choice == '1'):\n",
    "    print(series1(n, 4))\n",
    "else:\n",
    "    print(series2(n))"
   ]
  },
  {
   "cell_type": "markdown",
   "id": "64ca7084",
   "metadata": {},
   "source": [
    "#### 11. Given an input string, count occurrences of all characters within a string"
   ]
  },
  {
   "cell_type": "code",
   "execution_count": 37,
   "id": "1186a871",
   "metadata": {},
   "outputs": [
    {
     "name": "stdout",
     "output_type": "stream",
     "text": [
      "Enter a string : Mississippi\n",
      "Counter({'i': 4, 's': 4, 'p': 2, 'M': 1})\n"
     ]
    }
   ],
   "source": [
    "from collections import Counter\n",
    "\n",
    "s = input(\"Enter a string : \")\n",
    "countChars = Counter(s)\n",
    "print(countChars)"
   ]
  },
  {
   "cell_type": "markdown",
   "id": "79462c44",
   "metadata": {},
   "source": [
    "#### 12. WAP to remove special symbols/Punctuation from a given string"
   ]
  },
  {
   "cell_type": "code",
   "execution_count": 1,
   "id": "4eb0050e",
   "metadata": {},
   "outputs": [
    {
     "name": "stdout",
     "output_type": "stream",
     "text": [
      "Enter a string :  Hello@World#How are(! you? *&\n",
      " Hello World How are you \n"
     ]
    }
   ],
   "source": [
    "import re\n",
    "\n",
    "s = input(\"Enter a string : \")\n",
    "s = re.sub(r'[^\\w\\s]', ' ', s)  #for punctuations\n",
    "s = re.sub(' +',' ', s) # for extra spaces\n",
    "print(s)"
   ]
  },
  {
   "cell_type": "markdown",
   "id": "e5d36e1a",
   "metadata": {},
   "source": [
    "#### 13. Split a given string on hyphens into several substrings and display each substring."
   ]
  },
  {
   "cell_type": "code",
   "execution_count": 3,
   "id": "4f12a986",
   "metadata": {},
   "outputs": [
    {
     "name": "stdout",
     "output_type": "stream",
     "text": [
      "enter a string: Python-is-a-programming-language\n",
      "Python\n",
      "is\n",
      "a\n",
      "programming\n",
      "language\n"
     ]
    }
   ],
   "source": [
    "s = input(\"enter a string: \")\n",
    "s = s.split('-')\n",
    "for x in s:\n",
    "    print(x, end='\\n')"
   ]
  },
  {
   "cell_type": "markdown",
   "id": "7f48bcb4",
   "metadata": {},
   "source": [
    "#### 14. Given two strings, s1, and s2 return a new string made of the first, middle, and last characters each input string\n"
   ]
  },
  {
   "cell_type": "code",
   "execution_count": 8,
   "id": "1e6cd18f",
   "metadata": {},
   "outputs": [
    {
     "name": "stdout",
     "output_type": "stream",
     "text": [
      "HWlrod\n"
     ]
    }
   ],
   "source": [
    "s1 = 'Hello'\n",
    "s2 = 'World'\n",
    "s = s1[0] + s2[0] + s1[len(s1)//2] + s2[len(s2)//2] + s1[-1] + s2[-1]\n",
    "print(s)"
   ]
  },
  {
   "cell_type": "markdown",
   "id": "3f36bdb7",
   "metadata": {},
   "source": [
    "#### 15.  Given dictionary: Dict1 = { \"name\": \"Arman\", \"age\":21, \"salary\": 80000, \"city\": \"Ranchi\", “country”: “India\"}\n",
    "Create a new dictionary by extracting the following keys from above dictionary\n",
    "Keys to extract :\n",
    "Key = { “name”, “salary”}\n",
    "1. Delete set of keys from a dictionary\n",
    "Keys to remove = { “age”, “country”}\n",
    "2. Rename key “city” to “location” in the dictionary"
   ]
  },
  {
   "cell_type": "code",
   "execution_count": 30,
   "id": "8c2882ff",
   "metadata": {},
   "outputs": [
    {
     "name": "stdout",
     "output_type": "stream",
     "text": [
      "{'name': 'Arman', 'salary': 80000}\n",
      "{'name': 'Arman', 'salary': 80000, 'city': 'Ranchi'}\n",
      "{'name': 'Arman', 'salary': 80000, 'location': 'Ranchi'}\n"
     ]
    }
   ],
   "source": [
    "Dict1 = { \"name\": \"Arman\", \"age\":21, \"salary\": 80000, \"city\": \"Ranchi\", \"country\": \"India\" }\n",
    "Key = {\"name\", \"salary\"}\n",
    "\n",
    "Dict2 = {x : Dict1[x] for x in Key}\n",
    "print(Dict2)\n",
    "toRemove = { \"age\", \"country\"}\n",
    "\n",
    "for x in toRemove:\n",
    "    Dict1.pop(x)\n",
    "print(Dict1)\n",
    "\n",
    "Dict1['location'] = Dict1['city']\n",
    "del Dict1['city']\n",
    "print(Dict1)"
   ]
  },
  {
   "cell_type": "markdown",
   "id": "f1762038",
   "metadata": {},
   "source": [
    "#### 16. Reverse the given tuple T = (10, 20 , 30 , 40, 50)."
   ]
  },
  {
   "cell_type": "code",
   "execution_count": 9,
   "id": "4a693f6d",
   "metadata": {},
   "outputs": [
    {
     "name": "stdout",
     "output_type": "stream",
     "text": [
      "(50, 40, 30, 20, 10)\n"
     ]
    }
   ],
   "source": [
    "T = (10, 20 , 30 , 40, 50)\n",
    "T = tuple(reversed(T))\n",
    "print(T)"
   ]
  },
  {
   "cell_type": "markdown",
   "id": "5cd8bd54",
   "metadata": {},
   "source": [
    "#### 17. Modify the first item (22) of a list inside a following tuple to 222\n",
    "      T = (11, [22, 33], 44, 55)"
   ]
  },
  {
   "cell_type": "code",
   "execution_count": 10,
   "id": "a0587d68",
   "metadata": {},
   "outputs": [
    {
     "name": "stdout",
     "output_type": "stream",
     "text": [
      "(11, [222, 33], 44, 55)\n"
     ]
    }
   ],
   "source": [
    "T = (11, [22, 33], 44, 55)\n",
    "T[1][0] = 222\n",
    "print(T)"
   ]
  },
  {
   "cell_type": "markdown",
   "id": "50abde56",
   "metadata": {},
   "source": [
    "#### 18. Counts the number of occurrences of item 50 from a tuple\n",
    "         T = (‘a’ , ‘b’ ,‘c’ , ‘a’, ‘e, ‘a’ , ‘b’ , ‘e’ ,‘o’)"
   ]
  },
  {
   "cell_type": "code",
   "execution_count": 12,
   "id": "777be6cc",
   "metadata": {},
   "outputs": [
    {
     "name": "stdout",
     "output_type": "stream",
     "text": [
      "Counter({'a': 3, 'b': 2, 'e': 2, 'c': 1, 'o': 1})\n"
     ]
    }
   ],
   "source": [
    "from collections import Counter\n",
    "\n",
    "T = ('a' , 'b' ,'c' , 'a', 'e', 'a' , 'b' , 'e' ,'o')\n",
    "countEle = Counter(T);\n",
    "print(countEle)"
   ]
  },
  {
   "cell_type": "markdown",
   "id": "6ee17122",
   "metadata": {},
   "source": [
    "#### 19. Return a new set of identical items from a given two set\n",
    "        set1 = {10, 20, 30, 40, 50}\n",
    "        set2 = {30, 40, 50, 60, 70}\n",
    "        Expected output: {40, 50, 30}"
   ]
  },
  {
   "cell_type": "code",
   "execution_count": 13,
   "id": "60afd103",
   "metadata": {},
   "outputs": [
    {
     "name": "stdout",
     "output_type": "stream",
     "text": [
      "{40, 50, 30}\n"
     ]
    }
   ],
   "source": [
    "set1 = {10, 20, 30, 40, 50}\n",
    "set2 = {30, 40, 50, 60, 70}\n",
    "new_set = set1.intersection(set2)\n",
    "print(new_set)"
   ]
  },
  {
   "cell_type": "markdown",
   "id": "0bfb2948",
   "metadata": {},
   "source": [
    "#### 20. Remove items 10, 20, 30 from the following set at once\n",
    "        set1 = {10, 20, 30, 40, 50}\n",
    "        Expected output: {40, 50}"
   ]
  },
  {
   "cell_type": "code",
   "execution_count": 14,
   "id": "74adacd1",
   "metadata": {},
   "outputs": [
    {
     "name": "stdout",
     "output_type": "stream",
     "text": [
      "{40, 50}\n"
     ]
    }
   ],
   "source": [
    "set1 = {10, 20, 30, 40, 50}\n",
    "set_del = {10, 20, 30}\n",
    "set1.difference_update(set_del)\n",
    "print(set1)"
   ]
  },
  {
   "cell_type": "markdown",
   "id": "c029f1fe",
   "metadata": {},
   "source": [
    "#### 21. Update set1 by adding items from set2, except common items\n",
    "        set1 = {10, 20, 30, 40, 50}\n",
    "        set2 = {30, 40, 50, 60, 70}\n",
    "        Expected output: {70, 10, 20, 60}"
   ]
  },
  {
   "cell_type": "code",
   "execution_count": 19,
   "id": "b20387a1",
   "metadata": {},
   "outputs": [
    {
     "name": "stdout",
     "output_type": "stream",
     "text": [
      "{70, 10, 20, 60}\n"
     ]
    }
   ],
   "source": [
    "set1 = {10, 20, 30, 40, 50}\n",
    "set2 = {30, 40, 50, 60, 70}\n",
    "set1.symmetric_difference_update(set2)\n",
    "print(set1)"
   ]
  },
  {
   "cell_type": "markdown",
   "id": "f6392d22",
   "metadata": {},
   "source": [
    "#### 22. Remove duplicate from a list and create a tuple and find the minimum and maximum number\n",
    "        Given: sampleList = [87, 45, 41, 65, 94, 41, 99, 94]\n",
    "        Output :\n",
    "        unique items [87, 45, 41, 65, 99]\n",
    "        tuple (87, 45, 41, 65, 99)\n",
    "        min: 41\n",
    "        max: 99"
   ]
  },
  {
   "cell_type": "code",
   "execution_count": 10,
   "id": "cd3e4778",
   "metadata": {},
   "outputs": [
    {
     "name": "stdout",
     "output_type": "stream",
     "text": [
      "unique items [65, 99, 41, 45, 87, 94]\n",
      "tuple (65, 99, 41, 45, 87, 94)\n",
      "min:  41\n",
      "max:  99\n"
     ]
    }
   ],
   "source": [
    "sampleList = [87, 45, 41, 65, 94, 41, 99, 94]\n",
    "\n",
    "sampleList = list(set(sampleList))\n",
    "print(\"unique items\", sampleList) \n",
    "\n",
    "Tuple = tuple(sampleList)\n",
    "print(\"tuple\", Tuple)\n",
    "\n",
    "print(\"min: \", min(Tuple))\n",
    "print(\"max: \", max(Tuple))"
   ]
  },
  {
   "cell_type": "markdown",
   "id": "70d7dbc5",
   "metadata": {},
   "source": [
    "#### 23. Given a two list of equal size create a Python set such that it shows the element from both lists in the pair\n",
    "        Expected Output:\n",
    "        First List [2, 3, 4, 5, 6, 7, 8]\n",
    "        Second List [4, 9, 16, 25, 36, 49, 64]\n",
    "        Result is {(6, 36), (8, 64), (4, 16), (5, 25), (3, 9), (7, 49), (2, 4)}"
   ]
  },
  {
   "cell_type": "code",
   "execution_count": 12,
   "id": "a9372026",
   "metadata": {},
   "outputs": [
    {
     "name": "stdout",
     "output_type": "stream",
     "text": [
      "Result is  {(7, 49), (2, 4), (4, 16), (8, 64), (6, 36), (3, 9), (5, 25)}\n"
     ]
    }
   ],
   "source": [
    "List1 = [2, 3, 4, 5, 6, 7, 8]\n",
    "List2 = [4, 9, 16, 25, 36, 49, 64]\n",
    "print(\"Result is \", set(zip(List1, List2)))"
   ]
  },
  {
   "cell_type": "markdown",
   "id": "65b3ef13",
   "metadata": {},
   "source": [
    "#### 24. Define a function that accepts a decimal number and returns its binary equivalent"
   ]
  },
  {
   "cell_type": "code",
   "execution_count": 22,
   "id": "0886197e",
   "metadata": {},
   "outputs": [
    {
     "name": "stdout",
     "output_type": "stream",
     "text": [
      "Enter any decimal no. : 10\n",
      "0b1010\n"
     ]
    }
   ],
   "source": [
    "n = int(input('Enter any decimal no. : '))\n",
    "print(bin(n))"
   ]
  },
  {
   "cell_type": "markdown",
   "id": "90deb0fa",
   "metadata": {},
   "source": [
    "#### 25. Suppose you want to develop a program to play a lottery. The program randomly generates a two-digit number and prompts the user to enter a two-digit number, and determines whether the user wins according to the following rules:\n",
    "        a) If the user has entered that excat same number which matches with the\n",
    "        randomly generated number then user wins Rs10,000\n",
    "        b) If all the digits in the user’s input match all the digits in the lottery number,\n",
    "        then the award is Rs 3,000.\n",
    "        c) If only one digit in the user’s input matches a digit in the lottery number, the\n",
    "        award is $1,000."
   ]
  },
  {
   "cell_type": "code",
   "execution_count": 4,
   "id": "b3d68d33",
   "metadata": {},
   "outputs": [
    {
     "name": "stdout",
     "output_type": "stream",
     "text": [
      "Welcome!!\n",
      " Enter a two digit no. and see what the Lottery holds for you.\n",
      " Your Number : 11\n",
      "Nice Try.. You won Rs1000.\n",
      "The lottery no. was  51\n"
     ]
    }
   ],
   "source": [
    "import random\n",
    "\n",
    "random_num = str(random.randint(10, 99))\n",
    "n = input('Welcome!!\\n Enter a two digit no. and see what the Lottery holds for you.\\n Your Number : ')\n",
    "if(random_num == n):\n",
    "    print('Amazing!! You won Rs10000.')\n",
    "elif(random_num == n[::-1]):\n",
    "    print(\"Close Enough.. You won Rs3000.\")\n",
    "elif(random_num[0] == n[0] or random_num[0] == n[1] or  random_num[1] == n[0] or random_num[1] == n[1]):\n",
    "    print(\"Nice Try.. You won Rs1000.\")\n",
    "else:\n",
    "    print(\"Better Luck Next Time\")\n",
    "print(\"The lottery no. was \", random_num)"
   ]
  },
  {
   "cell_type": "code",
   "execution_count": null,
   "id": "5bc90439",
   "metadata": {},
   "outputs": [],
   "source": []
  },
  {
   "cell_type": "code",
   "execution_count": null,
   "id": "b89ad8d5",
   "metadata": {},
   "outputs": [],
   "source": []
  }
 ],
 "metadata": {
  "kernelspec": {
   "display_name": "Python 3",
   "language": "python",
   "name": "python3"
  },
  "language_info": {
   "codemirror_mode": {
    "name": "ipython",
    "version": 3
   },
   "file_extension": ".py",
   "mimetype": "text/x-python",
   "name": "python",
   "nbconvert_exporter": "python",
   "pygments_lexer": "ipython3",
   "version": "3.8.10"
  }
 },
 "nbformat": 4,
 "nbformat_minor": 5
}
